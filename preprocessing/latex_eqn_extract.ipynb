{
  "nbformat": 4,
  "nbformat_minor": 0,
  "metadata": {
    "colab": {
      "name": "latex-eqn-extract.ipynb",
      "provenance": [],
      "collapsed_sections": []
    },
    "kernelspec": {
      "name": "python3",
      "display_name": "Python 3"
    },
    "language_info": {
      "name": "python"
    }
  },
  "cells": [
    {
      "cell_type": "code",
      "execution_count": 31,
      "metadata": {
        "id": "JgPnQcpw27vH"
      },
      "outputs": [],
      "source": [
        "import os\n",
        "import pandas as pd"
      ]
    },
    {
      "cell_type": "code",
      "source": [
        "processed_path = 'drive/MyDrive/RSS/Processed/'\n",
        "folders = os.listdir(processed_path)"
      ],
      "metadata": {
        "id": "l6rwUyxJ3AZ-"
      },
      "execution_count": 3,
      "outputs": []
    },
    {
      "cell_type": "code",
      "source": [
        "data = []\n",
        "startflag = '\\\\begin{equation}'\n",
        "endflag = '\\\\end{equation}'\n",
        "for folder in folders:\n",
        "    folder_path = processed_path + folder + '/'\n",
        "    files = [i for i in os.listdir(folder_path) if '.tex' in i]\n",
        "    for f in files:\n",
        "        fp = folder_path + f\n",
        "        try:\n",
        "            content = open(fp, 'r').read()\n",
        "            ind = content.find(startflag)\n",
        "            while not ind == -1:\n",
        "                content = content[ind+len(startflag):]\n",
        "                end = content.find(endflag)\n",
        "                eqn = content[:end]\n",
        "                datapt = [folder, eqn]\n",
        "                data.append(datapt)\n",
        "                ind = content.find(startflag)\n",
        "        except:\n",
        "            print('Failed on file: ', fp)"
      ],
      "metadata": {
        "colab": {
          "base_uri": "https://localhost:8080/"
        },
        "id": "2wc5UGGE5txW",
        "outputId": "038b355e-a3db-4c32-904b-666506863eb4"
      },
      "execution_count": 28,
      "outputs": [
        {
          "output_type": "stream",
          "name": "stdout",
          "text": [
            "Failed on file:  drive/MyDrive/RSS/Processed/1702.08159/mckernel.tex\n",
            "Failed on file:  drive/MyDrive/RSS/Processed/1701.01000/defs.tex\n",
            "Failed on file:  drive/MyDrive/RSS/Processed/1705.07019/draft_causalpred.tex\n",
            "Failed on file:  drive/MyDrive/RSS/Processed/1801.07424/cvpr18_dynamic_attention.tex\n",
            "Failed on file:  drive/MyDrive/RSS/Processed/1606.04366/draft_nonlinear_sysid.tex\n",
            "Failed on file:  drive/MyDrive/RSS/Processed/1805.07460/kfflfmsub.tex\n",
            "Failed on file:  drive/MyDrive/RSS/Processed/1805.07009/scis_letter.tex\n",
            "Failed on file:  drive/MyDrive/RSS/Processed/1605.08163/Set_trajectories_journal_accepted_arxiv.tex\n",
            "Failed on file:  drive/MyDrive/RSS/Processed/1711.06491/hdcgan.tex\n",
            "Failed on file:  drive/MyDrive/RSS/Processed/1805.02523/root.tex\n",
            "Failed on file:  drive/MyDrive/RSS/Processed/1805.01963/PAMI_Resubmission_V7.0_major_V10.0-ling.tex\n",
            "Failed on file:  drive/MyDrive/RSS/Processed/1705.09283/Gated_XNOR_Network0408.tex\n",
            "Failed on file:  drive/MyDrive/RSS/Processed/1804.08468/Joint_Enhancement_and_Denoising_Method_via_Sequential_Decomposition.tex\n",
            "Failed on file:  drive/MyDrive/RSS/Processed/1804.10343/paper.tex\n",
            "Failed on file:  drive/MyDrive/RSS/Processed/1803.00197/Final-CYB-E-2018-05-0881.tex\n",
            "Failed on file:  drive/MyDrive/RSS/Processed/1805.09559/c149.tex\n",
            "Failed on file:  drive/MyDrive/RSS/Processed/1706.07929/egpaper_for_review.tex\n",
            "Failed on file:  drive/MyDrive/RSS/Processed/1806.06519/Deliege2018HitNet.tex\n"
          ]
        }
      ]
    },
    {
      "cell_type": "code",
      "source": [
        "df = pd.DataFrame(data, columns=['id', 'eqn'])\n",
        "df.to_csv('equations.csv')\n",
        "df.head()"
      ],
      "metadata": {
        "colab": {
          "base_uri": "https://localhost:8080/",
          "height": 206
        },
        "id": "UlpmBYqIRlwu",
        "outputId": "2064f3be-c07f-482c-a5b3-e4d9a5d25c79"
      },
      "execution_count": 33,
      "outputs": [
        {
          "output_type": "execute_result",
          "data": {
            "text/plain": [
              "           id                                                eqn\n",
              "0  1806.05559  \\n   \\mathcal{L} = -\\sum^{n(1+m)}_{i=1} \\Big(y...\n",
              "1  1806.05559  \\n  \\hat{y}_{i} =\\n    \\begin{cases}\\n      1 ...\n",
              "2  1703.01887                \\n  \\Omega_m =[D_1, D_2,...D_{M}]\\n\n",
              "3  1703.01887     \\n  \\Psi_m = x[t], x[t- 1], ..., x[t - I_m] \\n\n",
              "4  1703.01887   \\n  L_t  = \\sqrt {\\frac{1}{M}  \\sum_{m=1}^M \\..."
            ],
            "text/html": [
              "\n",
              "  <div id=\"df-534b0de2-6ed9-45ee-a5ad-66b2a9859a30\">\n",
              "    <div class=\"colab-df-container\">\n",
              "      <div>\n",
              "<style scoped>\n",
              "    .dataframe tbody tr th:only-of-type {\n",
              "        vertical-align: middle;\n",
              "    }\n",
              "\n",
              "    .dataframe tbody tr th {\n",
              "        vertical-align: top;\n",
              "    }\n",
              "\n",
              "    .dataframe thead th {\n",
              "        text-align: right;\n",
              "    }\n",
              "</style>\n",
              "<table border=\"1\" class=\"dataframe\">\n",
              "  <thead>\n",
              "    <tr style=\"text-align: right;\">\n",
              "      <th></th>\n",
              "      <th>id</th>\n",
              "      <th>eqn</th>\n",
              "    </tr>\n",
              "  </thead>\n",
              "  <tbody>\n",
              "    <tr>\n",
              "      <th>0</th>\n",
              "      <td>1806.05559</td>\n",
              "      <td>\\n   \\mathcal{L} = -\\sum^{n(1+m)}_{i=1} \\Big(y...</td>\n",
              "    </tr>\n",
              "    <tr>\n",
              "      <th>1</th>\n",
              "      <td>1806.05559</td>\n",
              "      <td>\\n  \\hat{y}_{i} =\\n    \\begin{cases}\\n      1 ...</td>\n",
              "    </tr>\n",
              "    <tr>\n",
              "      <th>2</th>\n",
              "      <td>1703.01887</td>\n",
              "      <td>\\n  \\Omega_m =[D_1, D_2,...D_{M}]\\n</td>\n",
              "    </tr>\n",
              "    <tr>\n",
              "      <th>3</th>\n",
              "      <td>1703.01887</td>\n",
              "      <td>\\n  \\Psi_m = x[t], x[t- 1], ..., x[t - I_m] \\n</td>\n",
              "    </tr>\n",
              "    <tr>\n",
              "      <th>4</th>\n",
              "      <td>1703.01887</td>\n",
              "      <td>\\n  L_t  = \\sqrt {\\frac{1}{M}  \\sum_{m=1}^M \\...</td>\n",
              "    </tr>\n",
              "  </tbody>\n",
              "</table>\n",
              "</div>\n",
              "      <button class=\"colab-df-convert\" onclick=\"convertToInteractive('df-534b0de2-6ed9-45ee-a5ad-66b2a9859a30')\"\n",
              "              title=\"Convert this dataframe to an interactive table.\"\n",
              "              style=\"display:none;\">\n",
              "        \n",
              "  <svg xmlns=\"http://www.w3.org/2000/svg\" height=\"24px\"viewBox=\"0 0 24 24\"\n",
              "       width=\"24px\">\n",
              "    <path d=\"M0 0h24v24H0V0z\" fill=\"none\"/>\n",
              "    <path d=\"M18.56 5.44l.94 2.06.94-2.06 2.06-.94-2.06-.94-.94-2.06-.94 2.06-2.06.94zm-11 1L8.5 8.5l.94-2.06 2.06-.94-2.06-.94L8.5 2.5l-.94 2.06-2.06.94zm10 10l.94 2.06.94-2.06 2.06-.94-2.06-.94-.94-2.06-.94 2.06-2.06.94z\"/><path d=\"M17.41 7.96l-1.37-1.37c-.4-.4-.92-.59-1.43-.59-.52 0-1.04.2-1.43.59L10.3 9.45l-7.72 7.72c-.78.78-.78 2.05 0 2.83L4 21.41c.39.39.9.59 1.41.59.51 0 1.02-.2 1.41-.59l7.78-7.78 2.81-2.81c.8-.78.8-2.07 0-2.86zM5.41 20L4 18.59l7.72-7.72 1.47 1.35L5.41 20z\"/>\n",
              "  </svg>\n",
              "      </button>\n",
              "      \n",
              "  <style>\n",
              "    .colab-df-container {\n",
              "      display:flex;\n",
              "      flex-wrap:wrap;\n",
              "      gap: 12px;\n",
              "    }\n",
              "\n",
              "    .colab-df-convert {\n",
              "      background-color: #E8F0FE;\n",
              "      border: none;\n",
              "      border-radius: 50%;\n",
              "      cursor: pointer;\n",
              "      display: none;\n",
              "      fill: #1967D2;\n",
              "      height: 32px;\n",
              "      padding: 0 0 0 0;\n",
              "      width: 32px;\n",
              "    }\n",
              "\n",
              "    .colab-df-convert:hover {\n",
              "      background-color: #E2EBFA;\n",
              "      box-shadow: 0px 1px 2px rgba(60, 64, 67, 0.3), 0px 1px 3px 1px rgba(60, 64, 67, 0.15);\n",
              "      fill: #174EA6;\n",
              "    }\n",
              "\n",
              "    [theme=dark] .colab-df-convert {\n",
              "      background-color: #3B4455;\n",
              "      fill: #D2E3FC;\n",
              "    }\n",
              "\n",
              "    [theme=dark] .colab-df-convert:hover {\n",
              "      background-color: #434B5C;\n",
              "      box-shadow: 0px 1px 3px 1px rgba(0, 0, 0, 0.15);\n",
              "      filter: drop-shadow(0px 1px 2px rgba(0, 0, 0, 0.3));\n",
              "      fill: #FFFFFF;\n",
              "    }\n",
              "  </style>\n",
              "\n",
              "      <script>\n",
              "        const buttonEl =\n",
              "          document.querySelector('#df-534b0de2-6ed9-45ee-a5ad-66b2a9859a30 button.colab-df-convert');\n",
              "        buttonEl.style.display =\n",
              "          google.colab.kernel.accessAllowed ? 'block' : 'none';\n",
              "\n",
              "        async function convertToInteractive(key) {\n",
              "          const element = document.querySelector('#df-534b0de2-6ed9-45ee-a5ad-66b2a9859a30');\n",
              "          const dataTable =\n",
              "            await google.colab.kernel.invokeFunction('convertToInteractive',\n",
              "                                                     [key], {});\n",
              "          if (!dataTable) return;\n",
              "\n",
              "          const docLinkHtml = 'Like what you see? Visit the ' +\n",
              "            '<a target=\"_blank\" href=https://colab.research.google.com/notebooks/data_table.ipynb>data table notebook</a>'\n",
              "            + ' to learn more about interactive tables.';\n",
              "          element.innerHTML = '';\n",
              "          dataTable['output_type'] = 'display_data';\n",
              "          await google.colab.output.renderOutput(dataTable, element);\n",
              "          const docLink = document.createElement('div');\n",
              "          docLink.innerHTML = docLinkHtml;\n",
              "          element.appendChild(docLink);\n",
              "        }\n",
              "      </script>\n",
              "    </div>\n",
              "  </div>\n",
              "  "
            ]
          },
          "metadata": {},
          "execution_count": 33
        }
      ]
    }
  ]
}