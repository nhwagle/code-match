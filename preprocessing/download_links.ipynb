{
  "nbformat": 4,
  "nbformat_minor": 0,
  "metadata": {
    "colab": {
      "name": "download-links.ipynb",
      "provenance": []
    },
    "kernelspec": {
      "name": "python3",
      "display_name": "Python 3"
    },
    "language_info": {
      "name": "python"
    }
  },
  "cells": [
    {
      "cell_type": "code",
      "execution_count": 1,
      "metadata": {
        "colab": {
          "base_uri": "https://localhost:8080/"
        },
        "id": "vIpFGXfnqbGJ",
        "outputId": "9d05e239-1ca1-44f7-8334-c7016ee78e5d"
      },
      "outputs": [
        {
          "output_type": "stream",
          "name": "stdout",
          "text": [
            "--2022-03-27 23:18:05--  https://production-media.paperswithcode.com/about/papers-with-abstracts.json.gz\n",
            "Resolving production-media.paperswithcode.com (production-media.paperswithcode.com)... 104.26.13.155, 172.67.73.69, 104.26.12.155, ...\n",
            "Connecting to production-media.paperswithcode.com (production-media.paperswithcode.com)|104.26.13.155|:443... connected.\n",
            "HTTP request sent, awaiting response... 200 OK\n",
            "Length: 212474797 (203M) [binary/octet-stream]\n",
            "Saving to: ‘papers-with-abstracts.json.gz’\n",
            "\n",
            "papers-with-abstrac 100%[===================>] 202.63M  55.8MB/s    in 3.7s    \n",
            "\n",
            "2022-03-27 23:18:09 (54.9 MB/s) - ‘papers-with-abstracts.json.gz’ saved [212474797/212474797]\n",
            "\n",
            "--2022-03-27 23:18:09--  https://production-media.paperswithcode.com/about/links-between-papers-and-code.json.gz\n",
            "Resolving production-media.paperswithcode.com (production-media.paperswithcode.com)... 104.26.13.155, 172.67.73.69, 104.26.12.155, ...\n",
            "Connecting to production-media.paperswithcode.com (production-media.paperswithcode.com)|104.26.13.155|:443... connected.\n",
            "HTTP request sent, awaiting response... 200 OK\n",
            "Length: 11799240 (11M) [binary/octet-stream]\n",
            "Saving to: ‘links-between-papers-and-code.json.gz’\n",
            "\n",
            "links-between-paper 100%[===================>]  11.25M  40.8MB/s    in 0.3s    \n",
            "\n",
            "2022-03-27 23:18:10 (40.8 MB/s) - ‘links-between-papers-and-code.json.gz’ saved [11799240/11799240]\n",
            "\n",
            "--2022-03-27 23:18:10--  https://production-media.paperswithcode.com/about/methods.json.gz\n",
            "Resolving production-media.paperswithcode.com (production-media.paperswithcode.com)... 172.67.73.69, 104.26.13.155, 104.26.12.155, ...\n",
            "Connecting to production-media.paperswithcode.com (production-media.paperswithcode.com)|172.67.73.69|:443... connected.\n",
            "HTTP request sent, awaiting response... 200 OK\n",
            "Length: 676620 (661K) [binary/octet-stream]\n",
            "Saving to: ‘methods.json.gz’\n",
            "\n",
            "methods.json.gz     100%[===================>] 660.76K  --.-KB/s    in 0.09s   \n",
            "\n",
            "2022-03-27 23:18:10 (7.19 MB/s) - ‘methods.json.gz’ saved [676620/676620]\n",
            "\n"
          ]
        }
      ],
      "source": [
        "!wget https://production-media.paperswithcode.com/about/papers-with-abstracts.json.gz\n",
        "!wget https://production-media.paperswithcode.com/about/links-between-papers-and-code.json.gz"
      ]
    },
    {
      "cell_type": "code",
      "source": [
        "import os\n",
        "import json\n",
        "import gzip\n",
        "import pandas as pd"
      ],
      "metadata": {
        "id": "-kFk8a-CrB0q"
      },
      "execution_count": 21,
      "outputs": []
    },
    {
      "cell_type": "code",
      "source": [
        "with gzip.open(\"papers-with-abstracts.json.gz\", \"rb\") as f:\n",
        "    papersinfo = json.loads(f.read().decode(\"ascii\"))\n",
        "with gzip.open(\"links-between-papers-and-code.json.gz\", \"rb\") as f:\n",
        "    linksinfo = json.loads(f.read().decode(\"ascii\"))"
      ],
      "metadata": {
        "id": "eJEo3yborGqT"
      },
      "execution_count": 6,
      "outputs": []
    },
    {
      "cell_type": "code",
      "source": [
        "papersinfo[0]"
      ],
      "metadata": {
        "colab": {
          "base_uri": "https://localhost:8080/"
        },
        "id": "am_cMMuGswY4",
        "outputId": "7a95a796-b59a-4653-e076-cb85061fe60f"
      },
      "execution_count": 7,
      "outputs": [
        {
          "output_type": "execute_result",
          "data": {
            "text/plain": [
              "{'abstract': 'Can evolving networks be inferred and modeled without directly observing\\ntheir nodes and edges? In many applications, the edges of a dynamic network\\nmight not be observed, but one can observe the dynamics of stochastic cascading\\nprocesses (e.g., information diffusion, virus propagation) occurring over the\\nunobserved network. While there have been efforts to infer networks based on\\nsuch data, providing a generative probabilistic model that is able to identify\\nthe underlying time-varying network remains an open question. Here we consider\\nthe problem of inferring generative dynamic network models based on network\\ncascade diffusion data. We propose a novel framework for providing a\\nnon-parametric dynamic network model--based on a mixture of coupled\\nhierarchical Dirichlet processes-- based on data capturing cascade node\\ninfection times. Our approach allows us to infer the evolving community\\nstructure in networks and to obtain an explicit predictive distribution over\\nthe edges of the underlying network--including those that were not involved in\\ntransmission of any cascade, or are likely to appear in the future. We show the\\neffectiveness of our approach using extensive experiments on synthetic as well\\nas real-world networks.',\n",
              " 'arxiv_id': '1805.10616',\n",
              " 'authors': ['Elahe Ghalebi',\n",
              "  'Baharan Mirzasoleiman',\n",
              "  'Radu Grosu',\n",
              "  'Jure Leskovec'],\n",
              " 'date': '2018-05-27',\n",
              " 'methods': [],\n",
              " 'paper_url': 'https://paperswithcode.com/paper/dynamic-network-model-from-partial',\n",
              " 'proceeding': 'NeurIPS 2018 12',\n",
              " 'tasks': [],\n",
              " 'title': 'Dynamic Network Model from Partial Observations',\n",
              " 'url_abs': 'http://arxiv.org/abs/1805.10616v4',\n",
              " 'url_pdf': 'http://arxiv.org/pdf/1805.10616v4.pdf'}"
            ]
          },
          "metadata": {},
          "execution_count": 7
        }
      ]
    },
    {
      "cell_type": "code",
      "source": [
        "linksinfo[0]"
      ],
      "metadata": {
        "colab": {
          "base_uri": "https://localhost:8080/"
        },
        "id": "5_qzEmKbtafb",
        "outputId": "1a527869-dda0-4d6d-c76f-508582509456"
      },
      "execution_count": 11,
      "outputs": [
        {
          "output_type": "execute_result",
          "data": {
            "text/plain": [
              "{'framework': 'tf',\n",
              " 'is_official': False,\n",
              " 'mentioned_in_github': False,\n",
              " 'mentioned_in_paper': False,\n",
              " 'paper_arxiv_id': None,\n",
              " 'paper_title': 'Automatic Post-Editing of Machine Translation: A Neural Programmer-Interpreter Approach',\n",
              " 'paper_url': 'https://paperswithcode.com/paper/automatic-post-editing-of-machine-translation',\n",
              " 'paper_url_abs': 'https://aclanthology.org/D18-1341',\n",
              " 'paper_url_pdf': 'https://aclanthology.org/D18-1341.pdf',\n",
              " 'repo_url': 'https://github.com/trangvu/ape-npi'}"
            ]
          },
          "metadata": {},
          "execution_count": 11
        }
      ]
    },
    {
      "cell_type": "code",
      "source": [
        "paperlinks = dict()"
      ],
      "metadata": {
        "id": "Hi7wRqtFu_rO"
      },
      "execution_count": 26,
      "outputs": []
    },
    {
      "cell_type": "code",
      "source": [
        "for paperinfo in papersinfo:\n",
        "    title = paperinfo['title']\n",
        "    pdfurl = paperinfo['url_pdf']\n",
        "    paperlinks[title] = [pdfurl]"
      ],
      "metadata": {
        "id": "Y1AOPlMqumSU"
      },
      "execution_count": 27,
      "outputs": []
    },
    {
      "cell_type": "code",
      "source": [
        "for linkinfo in linksinfo:\n",
        "    title = linkinfo['paper_title']\n",
        "    repourl = linkinfo['repo_url']\n",
        "    try:\n",
        "        links = paperlinks[title]\n",
        "        links.append(repourl)\n",
        "        paperlinks[title] = links\n",
        "    except:\n",
        "        continue"
      ],
      "metadata": {
        "id": "LQM3Ufe4vR6g"
      },
      "execution_count": 28,
      "outputs": []
    },
    {
      "cell_type": "code",
      "source": [
        "paperswithcode = 0\n",
        "paperswithoutcode = 0\n",
        "paperswithoutlink = 0\n",
        "paperswithmultiplecode = 0\n",
        "keystoremove = []\n",
        "for title in paperlinks:\n",
        "    links = paperlinks[title]\n",
        "    if len(links) == 2:\n",
        "        paperswithcode += 1\n",
        "    elif len(links) == 1:\n",
        "        paperswithoutcode += 1\n",
        "        keystoremove.append(title)\n",
        "    elif len(links) == 0 or links[0] == '':\n",
        "        paperswithoutlink += 1\n",
        "        keystoremove.append(title)\n",
        "    else:\n",
        "        paperswithmultiplecode += 1\n",
        "        keystoremove.append(title)\n",
        "\n",
        "print('Papers with code: ', paperswithcode)\n",
        "print('Papers without code: ', paperswithoutcode)\n",
        "print('Papers with multiple code links: ', paperswithmultiplecode)\n",
        "print('Papers without link: ', paperswithoutlink)"
      ],
      "metadata": {
        "colab": {
          "base_uri": "https://localhost:8080/"
        },
        "id": "hIx4EEkcx4rf",
        "outputId": "440f19fd-f9d4-485d-c5a9-e56f0814c380"
      },
      "execution_count": 29,
      "outputs": [
        {
          "output_type": "stream",
          "name": "stdout",
          "text": [
            "Papers with code:  54055\n",
            "Papers without code:  216895\n",
            "Papers with multiple code links:  13004\n",
            "Papers without link:  0\n"
          ]
        }
      ]
    },
    {
      "cell_type": "code",
      "source": [
        "for title in keystoremove:\n",
        "    del paperlinks[title]"
      ],
      "metadata": {
        "id": "lSkMseJ_2Yrd"
      },
      "execution_count": 30,
      "outputs": []
    },
    {
      "cell_type": "code",
      "source": [
        "df = pd.DataFrame.from_dict(paperlinks, orient='index', columns=['link', 'code'])\n",
        "df.index.name = 'paper'\n",
        "df.head()"
      ],
      "metadata": {
        "colab": {
          "base_uri": "https://localhost:8080/",
          "height": 368
        },
        "id": "I7ubO5X03_yH",
        "outputId": "4d012ba0-567d-4c2e-ecc4-4af0af3fc942"
      },
      "execution_count": 36,
      "outputs": [
        {
          "output_type": "execute_result",
          "data": {
            "text/plain": [
              "                                                                                      link  \\\n",
              "paper                                                                                        \n",
              "Temporal coherence-based self-supervised learni...   http://arxiv.org/pdf/1806.06811v2.pdf   \n",
              "BinGAN: Learning Compact Binary Descriptors wit...   http://arxiv.org/pdf/1806.06778v5.pdf   \n",
              "Multiscale Fisher's Independence Test for Multi...  https://arxiv.org/pdf/1806.06777v7.pdf   \n",
              "POTs: Protective Optimization Technologies          https://arxiv.org/pdf/1806.02711v6.pdf   \n",
              "Surface Networks                                     http://arxiv.org/pdf/1705.10819v2.pdf   \n",
              "\n",
              "                                                                                                code  \n",
              "paper                                                                                                 \n",
              "Temporal coherence-based self-supervised learni...     https://gitlab.com/nct_tso_public/pretrain_tc  \n",
              "BinGAN: Learning Compact Binary Descriptors wit...             https://github.com/maciejzieba/binGAN  \n",
              "Multiscale Fisher's Independence Test for Multi...             https://github.com/MaStatLab/multiFit  \n",
              "POTs: Protective Optimization Technologies                       https://github.com/spring-epfl/pots  \n",
              "Surface Networks                                    https://github.com/jiangzhongshi/SurfaceNetworks  "
            ],
            "text/html": [
              "\n",
              "  <div id=\"df-2a1ba255-403e-40e7-a7f2-c2527f5931c4\">\n",
              "    <div class=\"colab-df-container\">\n",
              "      <div>\n",
              "<style scoped>\n",
              "    .dataframe tbody tr th:only-of-type {\n",
              "        vertical-align: middle;\n",
              "    }\n",
              "\n",
              "    .dataframe tbody tr th {\n",
              "        vertical-align: top;\n",
              "    }\n",
              "\n",
              "    .dataframe thead th {\n",
              "        text-align: right;\n",
              "    }\n",
              "</style>\n",
              "<table border=\"1\" class=\"dataframe\">\n",
              "  <thead>\n",
              "    <tr style=\"text-align: right;\">\n",
              "      <th></th>\n",
              "      <th>link</th>\n",
              "      <th>code</th>\n",
              "    </tr>\n",
              "    <tr>\n",
              "      <th>paper</th>\n",
              "      <th></th>\n",
              "      <th></th>\n",
              "    </tr>\n",
              "  </thead>\n",
              "  <tbody>\n",
              "    <tr>\n",
              "      <th>Temporal coherence-based self-supervised learning for laparoscopic workflow analysis</th>\n",
              "      <td>http://arxiv.org/pdf/1806.06811v2.pdf</td>\n",
              "      <td>https://gitlab.com/nct_tso_public/pretrain_tc</td>\n",
              "    </tr>\n",
              "    <tr>\n",
              "      <th>BinGAN: Learning Compact Binary Descriptors with a Regularized GAN</th>\n",
              "      <td>http://arxiv.org/pdf/1806.06778v5.pdf</td>\n",
              "      <td>https://github.com/maciejzieba/binGAN</td>\n",
              "    </tr>\n",
              "    <tr>\n",
              "      <th>Multiscale Fisher's Independence Test for Multivariate Dependence</th>\n",
              "      <td>https://arxiv.org/pdf/1806.06777v7.pdf</td>\n",
              "      <td>https://github.com/MaStatLab/multiFit</td>\n",
              "    </tr>\n",
              "    <tr>\n",
              "      <th>POTs: Protective Optimization Technologies</th>\n",
              "      <td>https://arxiv.org/pdf/1806.02711v6.pdf</td>\n",
              "      <td>https://github.com/spring-epfl/pots</td>\n",
              "    </tr>\n",
              "    <tr>\n",
              "      <th>Surface Networks</th>\n",
              "      <td>http://arxiv.org/pdf/1705.10819v2.pdf</td>\n",
              "      <td>https://github.com/jiangzhongshi/SurfaceNetworks</td>\n",
              "    </tr>\n",
              "  </tbody>\n",
              "</table>\n",
              "</div>\n",
              "      <button class=\"colab-df-convert\" onclick=\"convertToInteractive('df-2a1ba255-403e-40e7-a7f2-c2527f5931c4')\"\n",
              "              title=\"Convert this dataframe to an interactive table.\"\n",
              "              style=\"display:none;\">\n",
              "        \n",
              "  <svg xmlns=\"http://www.w3.org/2000/svg\" height=\"24px\"viewBox=\"0 0 24 24\"\n",
              "       width=\"24px\">\n",
              "    <path d=\"M0 0h24v24H0V0z\" fill=\"none\"/>\n",
              "    <path d=\"M18.56 5.44l.94 2.06.94-2.06 2.06-.94-2.06-.94-.94-2.06-.94 2.06-2.06.94zm-11 1L8.5 8.5l.94-2.06 2.06-.94-2.06-.94L8.5 2.5l-.94 2.06-2.06.94zm10 10l.94 2.06.94-2.06 2.06-.94-2.06-.94-.94-2.06-.94 2.06-2.06.94z\"/><path d=\"M17.41 7.96l-1.37-1.37c-.4-.4-.92-.59-1.43-.59-.52 0-1.04.2-1.43.59L10.3 9.45l-7.72 7.72c-.78.78-.78 2.05 0 2.83L4 21.41c.39.39.9.59 1.41.59.51 0 1.02-.2 1.41-.59l7.78-7.78 2.81-2.81c.8-.78.8-2.07 0-2.86zM5.41 20L4 18.59l7.72-7.72 1.47 1.35L5.41 20z\"/>\n",
              "  </svg>\n",
              "      </button>\n",
              "      \n",
              "  <style>\n",
              "    .colab-df-container {\n",
              "      display:flex;\n",
              "      flex-wrap:wrap;\n",
              "      gap: 12px;\n",
              "    }\n",
              "\n",
              "    .colab-df-convert {\n",
              "      background-color: #E8F0FE;\n",
              "      border: none;\n",
              "      border-radius: 50%;\n",
              "      cursor: pointer;\n",
              "      display: none;\n",
              "      fill: #1967D2;\n",
              "      height: 32px;\n",
              "      padding: 0 0 0 0;\n",
              "      width: 32px;\n",
              "    }\n",
              "\n",
              "    .colab-df-convert:hover {\n",
              "      background-color: #E2EBFA;\n",
              "      box-shadow: 0px 1px 2px rgba(60, 64, 67, 0.3), 0px 1px 3px 1px rgba(60, 64, 67, 0.15);\n",
              "      fill: #174EA6;\n",
              "    }\n",
              "\n",
              "    [theme=dark] .colab-df-convert {\n",
              "      background-color: #3B4455;\n",
              "      fill: #D2E3FC;\n",
              "    }\n",
              "\n",
              "    [theme=dark] .colab-df-convert:hover {\n",
              "      background-color: #434B5C;\n",
              "      box-shadow: 0px 1px 3px 1px rgba(0, 0, 0, 0.15);\n",
              "      filter: drop-shadow(0px 1px 2px rgba(0, 0, 0, 0.3));\n",
              "      fill: #FFFFFF;\n",
              "    }\n",
              "  </style>\n",
              "\n",
              "      <script>\n",
              "        const buttonEl =\n",
              "          document.querySelector('#df-2a1ba255-403e-40e7-a7f2-c2527f5931c4 button.colab-df-convert');\n",
              "        buttonEl.style.display =\n",
              "          google.colab.kernel.accessAllowed ? 'block' : 'none';\n",
              "\n",
              "        async function convertToInteractive(key) {\n",
              "          const element = document.querySelector('#df-2a1ba255-403e-40e7-a7f2-c2527f5931c4');\n",
              "          const dataTable =\n",
              "            await google.colab.kernel.invokeFunction('convertToInteractive',\n",
              "                                                     [key], {});\n",
              "          if (!dataTable) return;\n",
              "\n",
              "          const docLinkHtml = 'Like what you see? Visit the ' +\n",
              "            '<a target=\"_blank\" href=https://colab.research.google.com/notebooks/data_table.ipynb>data table notebook</a>'\n",
              "            + ' to learn more about interactive tables.';\n",
              "          element.innerHTML = '';\n",
              "          dataTable['output_type'] = 'display_data';\n",
              "          await google.colab.output.renderOutput(dataTable, element);\n",
              "          const docLink = document.createElement('div');\n",
              "          docLink.innerHTML = docLinkHtml;\n",
              "          element.appendChild(docLink);\n",
              "        }\n",
              "      </script>\n",
              "    </div>\n",
              "  </div>\n",
              "  "
            ]
          },
          "metadata": {},
          "execution_count": 36
        }
      ]
    },
    {
      "cell_type": "code",
      "source": [
        "df.to_csv('paper-code-links.csv')"
      ],
      "metadata": {
        "id": "BMAAxxeW7DYE"
      },
      "execution_count": 37,
      "outputs": []
    }
  ]
}